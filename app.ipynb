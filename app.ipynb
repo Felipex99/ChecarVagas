{
 "cells": [
  {
   "cell_type": "markdown",
   "metadata": {},
   "source": [
    "## Script para marcar as posicoes"
   ]
  },
  {
   "cell_type": "code",
   "execution_count": 1,
   "metadata": {},
   "outputs": [],
   "source": [
    "import cv2 \n",
    "import pickle\n",
    "width, height = 100,45\n",
    "\n",
    "try:\n",
    "    with open(\"CarParkPos\", \"rb\") as f:\n",
    "        posList = pickle.load(f)\n",
    "except:\n",
    "    posList = []\n",
    "\n",
    "def mouseClick(events, x, y, flags, params):\n",
    "    if events == cv2.EVENT_LBUTTONDOWN:\n",
    "        posList.append((x,y))\n",
    "    if events == cv2.EVENT_RBUTTONDOWN:\n",
    "        for i, pos in enumerate(posList):\n",
    "            x1, y1 = pos\n",
    "            if x1 < x < (x1 + width) and y1 < y < (y1+height):\n",
    "                posList.pop(i)\n",
    "    with open(\"CarParkPos\", \"wb\") as f:\n",
    "        pickle.dump(posList, f)\n",
    "\n",
    "while True:\n",
    "        key = cv2.waitKey(1) & 0xFF\n",
    "\n",
    "        if key == 27:\n",
    "            break\n",
    "        img = cv2.imread(\"carParkImg.png\")\n",
    "        for pos in posList:\n",
    "            cv2.rectangle(img, pos, (pos[0] + width, pos[1] + height), (255,0,255), 2)\n",
    "        cv2.imshow(\"Image\", img)\n",
    "        cv2.setMouseCallback(\"Image\", mouseClick)\n",
    "        cv2.waitKey(1)\n",
    "cv2.destroyAllWindows()\n",
    "\n"
   ]
  },
  {
   "cell_type": "markdown",
   "metadata": {},
   "source": [
    "## Script para exibir o funcionamento da visão computacional das vagas"
   ]
  },
  {
   "cell_type": "code",
   "execution_count": 33,
   "metadata": {},
   "outputs": [
    {
     "name": "stdout",
     "output_type": "stream",
     "text": [
      "Codigo encerrado\n"
     ]
    }
   ],
   "source": [
    "import cv2\n",
    "import pickle\n",
    "import cvzone\n",
    "import numpy as np\n",
    "video = cv2.VideoCapture(\"carPark.mp4\")\n",
    "velocidadeFrame = 3\n",
    "color = (0,0,0)\n",
    "with open(\"CarParkPos\", \"rb\") as f:\n",
    "    posList = pickle.load(f)\n",
    "\n",
    "width, height = 107, 48\n",
    "\n",
    "def checkParkingSpace(imgPro):\n",
    "    spaceCounter = 0\n",
    "    for pos in posList:\n",
    "        x, y = pos\n",
    "        imgCrop = imgPro[y: y + height, x : x +height]\n",
    "        count = cv2.countNonZero(imgCrop)\n",
    "        if count < 170:\n",
    "            color = (0, 255, 0)\n",
    "            thickness = 3\n",
    "            spaceCounter += 1\n",
    "        else:\n",
    "            color = (0, 0, 255)\n",
    "            thickness = 2\n",
    "        cv2.rectangle(img, pos, (pos[0] + width, pos[1] + height), color, thickness)\n",
    "\n",
    "        cvzone.putTextRect(img, str(count), (x,y+height-3), scale=1, thickness=2,offset=0,colorR=color)\n",
    "    cvzone.putTextRect(img, f\"VAGAS: {spaceCounter}/{len(posList)}\", (100, 50), scale = 3, thickness=5, offset=20, colorR=(0,255,0))\n",
    "    \n",
    "def mouseClick(event, x, y, flags, param):\n",
    "    global velocidadeFrame, color\n",
    "    if event == cv2.EVENT_LBUTTONDOWN:\n",
    "        velocidadeFrame += 100\n",
    "        color = (0, 255, 0)\n",
    "    elif event == cv2.EVENT_RBUTTONDOWN:\n",
    "        velocidadeFrame = 3\n",
    "        color = (0, 0, 255)\n",
    "\n",
    "    \n",
    "\n",
    "while True:\n",
    "    try:\n",
    "        key = cv2.waitKey(1) & 0xFF\n",
    "        if(key == 27):\n",
    "            break\n",
    "        # DEIXA O VÍDEO EM LOOP\n",
    "        if video.get(cv2.CAP_PROP_POS_FRAMES) == video.get(cv2.CAP_PROP_FRAME_COUNT):\n",
    "            video.set(cv2.CAP_PROP_POS_FRAMES,0)\n",
    "        success, img = video.read()\n",
    "        imgGray = cv2.cvtColor(img, cv2.COLOR_BGR2GRAY)\n",
    "        imgBlur = cv2.GaussianBlur(imgGray,(3,3),1)\n",
    "        imgThreshold = cv2.adaptiveThreshold(imgBlur, 255, cv2.ADAPTIVE_THRESH_GAUSSIAN_C, cv2.THRESH_BINARY_INV, 25, 16)\n",
    "\n",
    "        imgMedian = cv2.medianBlur(imgThreshold,5)\n",
    "        kernel = np.ones((3,3), np.uint8)\n",
    "        imgDilate = cv2.dilate(imgMedian, kernel, iterations=1)\n",
    "        checkParkingSpace(imgDilate)\n",
    "        cv2.imshow(\"Image\", img)\n",
    "        cv2.waitKey(velocidadeFrame)\n",
    "        cv2.setMouseCallback(\"Image\", mouseClick)\n",
    "    except:\n",
    "        print(\"Codigo encerrado\")\n",
    "        cv2.destroyAllWindows()\n",
    "        break\n",
    "\n",
    "cv2.destroyAllWindows()\n",
    "\n",
    "\n"
   ]
  }
 ],
 "metadata": {
  "kernelspec": {
   "display_name": "Python 3",
   "language": "python",
   "name": "python3"
  },
  "language_info": {
   "codemirror_mode": {
    "name": "ipython",
    "version": 3
   },
   "file_extension": ".py",
   "mimetype": "text/x-python",
   "name": "python",
   "nbconvert_exporter": "python",
   "pygments_lexer": "ipython3",
   "version": "3.12.4"
  }
 },
 "nbformat": 4,
 "nbformat_minor": 2
}
